{
 "cells": [
  {
   "cell_type": "code",
   "execution_count": 8,
   "metadata": {
    "collapsed": false
   },
   "outputs": [],
   "source": [
    "import matplotlib.image as mpimg\n",
    "import matplotlib.pyplot as plt\n",
    "from functions.conv1fxn import *\n",
    "from functions.functions_image_training import *\n",
    "import numpy as np\n",
    "import tensorflow as tf\n",
    "import pickle\n",
    "import h5py\n",
    "import os.path\n",
    "import sys\n",
    "import timeit\n",
    "%matplotlib inline"
   ]
  },
  {
   "cell_type": "code",
   "execution_count": 9,
   "metadata": {
    "collapsed": false
   },
   "outputs": [],
   "source": [
    "with h5py.File('data/qualdata3.h5', 'a') as qd:\n",
    "    training_labels = np.array(qd.get('training_labels')).astype('uint8')\n",
    "    training_tensors = np.array(qd.get('training_tensors')).astype('uint8')"
   ]
  },
  {
   "cell_type": "code",
   "execution_count": 10,
   "metadata": {
    "collapsed": false
   },
   "outputs": [],
   "source": [
    "num_examples, num_classes = training_labels.shape\n",
    "batch_size = 30\n",
    "num_steps = int(num_examples/ batch_size)\n",
    "_,target_height,target_width,target_depth = training_tensors.shape\n",
    "epochs = 2\n",
    "portion_for_validation = 0.2 "
   ]
  },
  {
   "cell_type": "code",
   "execution_count": 11,
   "metadata": {
    "collapsed": false
   },
   "outputs": [
    {
     "name": "stdout",
     "output_type": "stream",
     "text": [
      "h_conv1 shape [None, 221, 221, 32]\n",
      "h_pool1 shape [None, 110, 110, 32]\n",
      "h_conv2 shape [None, 53, 53, 30]\n",
      "h_conv3_shape [None, 25, 25, 28]\n",
      "h_conv3_flat shape [None, 17500]\n",
      "h_fc1_drop shape [None, 100]\n",
      "h_fc2  shape [None, 64]\n",
      "y_soft shape [None, 3]\n",
      "session initialized variables\n"
     ]
    }
   ],
   "source": [
    "################ TENSOR FLOW #########################################\n",
    "### TF variables #####################################################\n",
    "tensor_image = tf.placeholder(\"uint8\", [None, None, 3])\n",
    "\n",
    "############ Manipulations to tensors in TF variables ########################\n",
    "#### Resizing tesors #################################################################\n",
    "resized_image = tf.image.resize_images(tensor_image, target_height, target_width)\n",
    "\n",
    "######## Manipulations to resized tensors in Resizing tensors ####################\n",
    "lrflip_resized = tf.image.flip_left_right(resized_image)\n",
    "udflip_resized = tf.image.flip_up_down(resized_image)\n",
    "\n",
    "####### BUILD NEURAL NET ARCHITECTURE ########################################\n",
    "x = tf.placeholder(tf.float32, shape=[None, target_height,target_width,target_depth])\n",
    "y_ = tf.placeholder(tf.float32, shape=[None, num_classes])\n",
    "\n",
    "W_conv1 = weight_variable([10, 10, 3, 32])\n",
    "b_conv1 = bias_variable([32])\n",
    "\n",
    "h_conv1 = tf.nn.relu(conv2d(x, W_conv1) + b_conv1)\n",
    "print('h_conv1 shape', h_conv1.get_shape().as_list())\n",
    "h_pool1 = max_pool_2x2(h_conv1)\n",
    "print('h_pool1 shape', h_pool1.get_shape().as_list())\n",
    "\n",
    "W_conv2 = weight_variable([5, 5, 32, 30])\n",
    "b_conv2 = bias_variable([30])\n",
    "\n",
    "h_conv2 = tf.nn.relu(conv2d(h_pool1, W_conv2) + b_conv2)\n",
    "print('h_conv2 shape', h_conv2.get_shape().as_list())\n",
    "\n",
    "W_conv3 = weight_variable([5, 5, 30, 28])\n",
    "b_conv3 = bias_variable([28])\n",
    "\n",
    "h_conv3 = tf.nn.relu(conv2d(h_conv2, W_conv3) + b_conv3)\n",
    "\n",
    "h_conv3_shape =  h_conv3.get_shape().as_list()\n",
    "print('h_conv3_shape', h_conv3_shape)\n",
    "\n",
    "W_fc1 = weight_variable([h_conv3_shape[1] * h_conv3_shape[2] * h_conv3_shape[3], 100])\n",
    "b_fc1 = bias_variable([100])\n",
    "\n",
    "# reshape x to 4d tensor[-1,width,height,depth, channels]\n",
    "h_conv3_flat = tf.reshape(h_conv3, [-1, h_conv3_shape[1] * h_conv3_shape[2] * h_conv3_shape[3]])\n",
    "print('h_conv3_flat shape', h_conv3_flat.get_shape().as_list())\n",
    "h_fc1 = tf.nn.relu(tf.matmul(h_conv3_flat, W_fc1) + b_fc1)\n",
    "\n",
    "# probability that a neuron's output is kept during dropout\n",
    "keep_prob = tf.placeholder(tf.float32)\n",
    "\n",
    "#dropout layer\n",
    "h_fc1_drop = tf.nn.dropout(h_fc1, keep_prob)\n",
    "print('h_fc1_drop shape', h_fc1_drop.get_shape().as_list())\n",
    "\n",
    "W_fc2 = weight_variable([100, 64])\n",
    "b_fc2 = bias_variable([64])\n",
    "\n",
    "h_fc2 = tf.matmul(h_fc1_drop, W_fc2) + b_fc2\n",
    "print('h_fc2  shape', h_fc2 .get_shape().as_list())\n",
    "\n",
    "W_fc3 = weight_variable([64, num_classes])\n",
    "b_fc3 = bias_variable([num_classes])\n",
    "\n",
    "#################### SOFTMAX layer ###############################\n",
    "h_fc3_logits = tf.matmul(h_fc2, W_fc3) + b_fc3\n",
    "\n",
    "y_soft=tf.nn.softmax(h_fc3_logits)\n",
    "print('y_soft shape', y_soft.get_shape().as_list())\n",
    "\n",
    "###################### REGULARIZATION ##############################\n",
    "L2_reg_const = 1e-6\n",
    "\n",
    "L2_reg = (tf.nn.l2_loss(W_conv1) + tf.nn.l2_loss(W_conv2) + tf.nn.l2_loss(W_conv3)\n",
    "+ tf.nn.l2_loss(W_fc1) + tf.nn.l2_loss(W_fc2) + tf.nn.l2_loss(W_fc3))\n",
    "\n",
    "#DEFINE COST FXN as cross entropy loss\n",
    "cross_entropy = -tf.reduce_sum(y_*tf.log(tf.clip_by_value(y_soft,1e-10,1.0)))  + L2_reg_const*L2_reg\n",
    "\n",
    "#DEFINE OPTIMIZER Instance\n",
    "#train_step = tf.train.AdamOptimizer(1e-3).minimize(cross_entropy)\n",
    "global_step = tf.Variable(0, trainable=False)\n",
    "starter_learning_rate = 1e-5\n",
    "learning_rate = tf.train.exponential_decay(starter_learning_rate,global_step,10,0.95,staircase=True)\n",
    "train_step = tf.train.AdamOptimizer(learning_rate).minimize(cross_entropy, global_step=global_step)\n",
    "#evaluate accuracy as boolean\n",
    "correct_prediction = tf.equal(tf.argmax(y_soft,1), tf.argmax(y_,1))\n",
    "#evaluate accuracy as binary average\n",
    "accuracy = tf.reduce_mean(tf.cast(correct_prediction, tf.float32))\n",
    "\n",
    "\n",
    "######## initialization class for session running ############################\n",
    "model = tf.initialize_all_variables()\n",
    "print('session initialized variables')"
   ]
  },
  {
   "cell_type": "code",
   "execution_count": null,
   "metadata": {
    "collapsed": false
   },
   "outputs": [],
   "source": [
    "start_time = timeit.default_timer()\n",
    "\n",
    "example_index = list(range(num_examples))\n",
    "random.shuffle(example_index)\n",
    "\n",
    "shuffled_all_images = training_tensors[example_index]/255\n",
    "shuffled_all_labels = training_labels[example_index]/255 \n",
    "\n",
    "start_of_training = int(portion_for_validation*num_examples)\n",
    "\n",
    "test_images = shuffled_all_images[:start_of_training]\n",
    "test_labels = shuffled_all_labels[:start_of_training]\n",
    "training_images = shuffled_all_images[start_of_training:]\n",
    "training_labels = shuffled_all_labels[start_of_training:]\n",
    "\n",
    "training_index = list(range(num_examples - start_of_training))\n",
    "########## TRAINING LOOP #####################################################\n",
    "with tf.Session() as session: \n",
    "    saver = tf.train.Saver()\n",
    "    saved_model = \"models/QualModelsmall.ckpt\"\n",
    "\n",
    "    if os.path.isfile(saved_model):\n",
    "        print('Found', saved_model)\n",
    "        saver.restore(session, saved_model)\n",
    "        print(saved_model, \"Model restored.\")\n",
    "    else:\n",
    "        print('No saved Model')\n",
    "        best_val_acc = np.float32(1/num_classes)\n",
    "        print('best_val_acc',best_val_acc)\n",
    "    \n",
    "    session.run(model)\n",
    "    \n",
    "########## NUMBER OF EPOCHS ##################################################\n",
    "    for epoch in range(epochs):\n",
    "        print('epoch', epoch, 'steps:', num_steps)\n",
    "        random.shuffle(training_index)\n",
    "\n",
    "        shuffled_images = training_images[training_index]\n",
    "        shuffled_labels = training_labels[training_index]\n",
    "        \n",
    "        for step in range(num_steps):\n",
    "            offset = (step * batch_size) % (num_examples)\n",
    "            start = offset\n",
    "            end = offset + batch_size\n",
    "            if num_examples - end < batch_size:\n",
    "                end += (num_examples % batch_size)\n",
    "                \n",
    "    ####### USE 'start' and 'end' to build one BATCH #####################################\n",
    "    ####### HERE ################################################################\n",
    "            batch_labels = shuffled_labels[start:end] \n",
    "            batch_images = shuffled_images[start:end]  \n",
    "            \n",
    "########### FEED TRAINING BATCH TO NETWORK ##########################################\n",
    "########### HERE ####################################################################\n",
    "\n",
    "            train_batch,Loss = session.run([train_step,cross_entropy],\n",
    "                               feed_dict={x:batch_images, y_:batch_labels, keep_prob:1.0})\n",
    "    \n",
    "            print('finished step ', step, 'learning rate' ,learning_rate.eval(), 'Loss:',Loss)\n",
    "            print(\"max W vales: %g %g %g %g %g %g\"%(tf.reduce_max(tf.abs(W_conv1)).eval(),\n",
    "                tf.reduce_max(tf.abs(W_conv2)).eval(),tf.reduce_max(tf.abs(W_conv3)).eval(),\n",
    "                tf.reduce_max(tf.abs(W_fc1)).eval(),tf.reduce_max(tf.abs(W_fc2)).eval(),\n",
    "                tf.reduce_max(tf.abs(W_fc3)).eval()))\n",
    "\n",
    "            print(\"max b vales: %g %g %g %g %g %g\"%(tf.reduce_max(tf.abs(b_conv1)).eval(),\n",
    "                  tf.reduce_max(tf.abs(b_conv2)).eval(), tf.reduce_max(tf.abs(b_conv3)).eval(),\n",
    "                  tf.reduce_max(tf.abs(b_fc1)).eval(),tf.reduce_max(tf.abs(b_fc2)).eval(),\n",
    "                  tf.reduce_max(tf.abs(b_fc3)).eval())) \n",
    "            \n",
    "            print(\"min W vales: %g %g %g %g %g %g\"%(tf.reduce_min(tf.abs(W_conv1)).eval(),\n",
    "                  tf.reduce_min(tf.abs(W_conv2)).eval(),tf.reduce_min(tf.abs(W_conv3)).eval(),\n",
    "                  tf.reduce_min(tf.abs(W_fc1)).eval(),tf.reduce_min(tf.abs(W_fc2)).eval(),\n",
    "                  tf.reduce_min(tf.abs(W_fc3)).eval()))\n",
    "\n",
    "            valid_acc = session.run(accuracy, feed_dict={x: test_images, y_: test_labels,  keep_prob: 1.0})\n",
    "            print(\"Validation Accuracy: %g\"% valid_acc)\n",
    "            if valid_acc > best_val_acc:\n",
    "                best_val_acc = valid_acc\n",
    "                print('NEW best_val_acc')\n",
    "                save_path = saver.save(session, saved_model)\n",
    "                print(\"Model saved in file: %s\" % save_path)\n",
    "#######################################################################################\n",
    "\n",
    "end_time = timeit.default_timer()\n",
    "print('DONE, ran for %.2fm' % ((end_time - start_time) / 60.))"
   ]
  },
  {
   "cell_type": "code",
   "execution_count": null,
   "metadata": {
    "collapsed": true
   },
   "outputs": [],
   "source": []
  },
  {
   "cell_type": "code",
   "execution_count": 41,
   "metadata": {
    "collapsed": false
   },
   "outputs": [
    {
     "name": "stdout",
     "output_type": "stream",
     "text": [
      "213\n"
     ]
    },
    {
     "data": {
      "image/png": "[encoded data removed]",
      "text/plain": [
       "<matplotlib.figure.Figure at 0x15332a390>"
      ]
     },
     "metadata": {},
     "output_type": "display_data"
    }
   ],
   "source": [
    "test = batch_images[0]\n",
    "print(np.amax(test))\n",
    "plt.imshow(test)\n",
    "plt.show()"
   ]
  },
  {
   "cell_type": "code",
   "execution_count": 6,
   "metadata": {
    "collapsed": true
   },
   "outputs": [],
   "source": [
    "session.close()"
   ]
  },
  {
   "cell_type": "code",
   "execution_count": null,
   "metadata": {
    "collapsed": true
   },
   "outputs": [],
   "source": []
  }
 ],
 "metadata": {
  "kernelspec": {
   "display_name": "Python 3",
   "language": "python",
   "name": "python3"
  },
  "language_info": {
   "codemirror_mode": {
    "name": "ipython",
    "version": 3
   },
   "file_extension": ".py",
   "mimetype": "text/x-python",
   "name": "python",
   "nbconvert_exporter": "python",
   "pygments_lexer": "ipython3",
   "version": "3.5.1"
  }
 },
 "nbformat": 4,
 "nbformat_minor": 0
}
