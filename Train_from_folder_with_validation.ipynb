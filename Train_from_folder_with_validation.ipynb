{
 "cells": [
  {
   "cell_type": "code",
   "execution_count": 1,
   "metadata": {
    "collapsed": false
   },
   "outputs": [
    {
     "name": "stderr",
     "output_type": "stream",
     "text": [
      "//anaconda/lib/python3.5/site-packages/pandas/computation/__init__.py:19: UserWarning: The installed version of numexpr 2.4.4 is not supported in pandas and will be not be used\n",
      "\n",
      "  UserWarning)\n"
     ]
    }
   ],
   "source": [
    "from functions.conv1fxn import *\n",
    "from functions.functions_image_training import *\n",
    "import tensorflow as tf\n",
    "import timeit\n",
    "import numpy as np\n",
    "import matplotlib.image as mpimg\n",
    "import matplotlib.pyplot as plt\n",
    "import random\n",
    "%matplotlib inline"
   ]
  },
  {
   "cell_type": "code",
   "execution_count": 23,
   "metadata": {
    "collapsed": false
   },
   "outputs": [],
   "source": [
    "############### INPUTS: including bacth size, list of tuples and image dictionary###########################\n",
    "mainfolder = 'images/quality_confirmed/'\n",
    "rejects = 'images/rejects/'\n",
    "batch_size = 30\n",
    "epochs = 1\n",
    "single_input_shape = (450,450,3)\n",
    "validation_proportion = 0.1"
   ]
  },
  {
   "cell_type": "code",
   "execution_count": 24,
   "metadata": {
    "collapsed": true
   },
   "outputs": [],
   "source": [
    "img_dict, cat_list = classifier_folder_to_jpg_dict_list(mainfolder,rejects)\n",
    "list_of_tuples = cat_list_to_list_of_tuples(img_dict, cat_list)\n",
    "total_num = len(list_of_tuples)\n",
    "classes = len(img_dict)\n",
    "target_height,target_width,target_depth = single_input_shape\n",
    "start_of_training = int(validation_proportion*total_num)\n",
    "random.shuffle(list_of_tuples)\n",
    "validation_list_of_tuples = list_of_tuples[:start_of_training]\n",
    "training_list_of_tuples = list_of_tuples[start_of_training:]\n",
    "num_val = len(validation_list_of_tuples)\n",
    "num_train = len(training_list_of_tuples)\n",
    "num_steps = int(num_train / batch_size)\n",
    "\n",
    "#Sherlock does not allow jpg to numpy conversion after tensorflow has been started up"
   ]
  },
  {
   "cell_type": "code",
   "execution_count": 38,
   "metadata": {
    "collapsed": false
   },
   "outputs": [
    {
     "name": "stdout",
     "output_type": "stream",
     "text": [
      "h_conv1 shape [None, 221, 221, 24]\n",
      "h_pool1 shape [None, 110, 110, 24]\n",
      "h_conv2 shape [None, 53, 53, 21]\n",
      "h_conv3_shape [None, 25, 25, 18]\n",
      "h_conv3_flat shape [None, 11250]\n",
      "h_fc1_drop shape [None, 128]\n",
      "h_fc2  shape [None, 64]\n",
      "y_soft shape [None, 3]\n",
      "session initialized variables\n"
     ]
    }
   ],
   "source": [
    "################ TENSOR FLOW #########################################\n",
    "### TF variables #####################################################\n",
    "tensor_image = tf.placeholder(\"uint8\", [None, None, 3])\n",
    "\n",
    "############ Manipulations to tensors in TF variables ########################\n",
    "#### Resizing tesors #################################################################\n",
    "resized_image = tf.image.resize_images(tensor_image, target_height, target_width)\n",
    "\n",
    "######## Manipulations to resized tensors in Resizing tensors ####################\n",
    "lrflip_resized = tf.image.flip_left_right(resized_image)\n",
    "udflip_resized = tf.image.flip_up_down(resized_image)\n",
    "\n",
    "####### BUILD NEURAL NET ARCHITECTURE ########################################\n",
    "x = tf.placeholder(tf.float32, shape=[None, target_height,target_width,target_depth])\n",
    "y_ = tf.placeholder(tf.float32, shape=[None, classes])\n",
    "\n",
    "W_conv1 = weight_variable([10, 10, 3, 24])\n",
    "b_conv1 = bias_variable([24])\n",
    "\n",
    "h_conv1 = tf.nn.relu(conv2d(x, W_conv1) + b_conv1)\n",
    "print('h_conv1 shape', h_conv1.get_shape().as_list())\n",
    "h_pool1 = max_pool_2x2(h_conv1)\n",
    "print('h_pool1 shape', h_pool1.get_shape().as_list())\n",
    "\n",
    "W_conv2 = weight_variable([5, 5, 24, 21])\n",
    "b_conv2 = bias_variable([21])\n",
    "\n",
    "h_conv2 = tf.nn.relu(conv2d(h_pool1, W_conv2) + b_conv2)\n",
    "print('h_conv2 shape', h_conv2.get_shape().as_list())\n",
    "\n",
    "W_conv3 = weight_variable([5, 5, 21, 18])\n",
    "b_conv3 = bias_variable([18])\n",
    "\n",
    "h_conv3 = tf.nn.relu(conv2d(h_conv2, W_conv3) + b_conv3)\n",
    "\n",
    "h_conv3_shape =  h_conv3.get_shape().as_list()\n",
    "print('h_conv3_shape', h_conv3_shape)\n",
    "\n",
    "W_fc1 = weight_variable([h_conv3_shape[1] * h_conv3_shape[2] * h_conv3_shape[3], 128])\n",
    "b_fc1 = bias_variable([128])\n",
    "\n",
    "# reshape x to 4d tensor[-1,width,height,depth, channels]\n",
    "h_conv3_flat = tf.reshape(h_conv3, [-1, h_conv3_shape[1] * h_conv3_shape[2] * h_conv3_shape[3]])\n",
    "print('h_conv3_flat shape', h_conv3_flat.get_shape().as_list())\n",
    "h_fc1 = tf.nn.relu(tf.matmul(h_conv3_flat, W_fc1) + b_fc1)\n",
    "\n",
    "# probability that a neuron's output is kept during dropout\n",
    "keep_prob = tf.placeholder(tf.float32)\n",
    "\n",
    "#dropout layer\n",
    "h_fc1_drop = tf.nn.dropout(h_fc1, keep_prob)\n",
    "print('h_fc1_drop shape', h_fc1_drop.get_shape().as_list())\n",
    "\n",
    "W_fc2 = weight_variable([128, 64])\n",
    "b_fc2 = bias_variable([64])\n",
    "\n",
    "h_fc2 = tf.matmul(h_fc1_drop, W_fc2) + b_fc2\n",
    "print('h_fc2  shape', h_fc2 .get_shape().as_list())\n",
    "\n",
    "W_fc3 = weight_variable([64, classes])\n",
    "b_fc3 = bias_variable([classes])\n",
    "\n",
    "#################### SOFTMAX layer ###############################\n",
    "h_fc3_logits = tf.matmul(h_fc2, W_fc3) + b_fc3\n",
    "\n",
    "y_soft=tf.nn.softmax(h_fc3_logits)\n",
    "print('y_soft shape', y_soft.get_shape().as_list())\n",
    "\n",
    "###################### REGULARIZATION ##############################\n",
    "L2_reg_const = 1e-6\n",
    "\n",
    "L2_reg = (tf.nn.l2_loss(W_conv1) + tf.nn.l2_loss(W_conv2) + tf.nn.l2_loss(W_conv3)\n",
    "+ tf.nn.l2_loss(W_fc1) + tf.nn.l2_loss(W_fc2) + tf.nn.l2_loss(W_fc3))\n",
    "\n",
    "#DEFINE COST FXN as cross entropy loss\n",
    "cross_entropy = -tf.reduce_sum(y_*tf.log(tf.clip_by_value(y_soft,1e-10,1.0)))  + L2_reg_const*L2_reg\n",
    "\n",
    "#DEFINE OPTIMIZER Instance\n",
    "#train_step = tf.train.AdamOptimizer(1e-3).minimize(cross_entropy)\n",
    "global_step = tf.Variable(0, trainable=False)\n",
    "starter_learning_rate = 1e-4\n",
    "learning_rate = tf.train.exponential_decay(starter_learning_rate,global_step,10,0.95,staircase=True)\n",
    "train_step = tf.train.AdamOptimizer(learning_rate).minimize(cross_entropy, global_step=global_step)\n",
    "#evaluate accuracy as boolean\n",
    "correct_prediction = tf.equal(tf.argmax(y_soft,1), tf.argmax(y_,1))\n",
    "#evaluate accuracy as binary average\n",
    "accuracy = tf.reduce_mean(tf.cast(correct_prediction, tf.float32))\n",
    "\n",
    "\n",
    "######## initialization class for session running ############################\n",
    "model_and_variables = tf.initialize_all_variables()\n",
    "print('session initialized variables')"
   ]
  },
  {
   "cell_type": "code",
   "execution_count": 36,
   "metadata": {
    "collapsed": false
   },
   "outputs": [],
   "source": [
    "with tf.Session() as session: \n",
    "############## INITIALIZE VARIABLES WITHIN THIS SESSION #############################   \n",
    "    session.run(model_and_variables)\n",
    "    \n",
    "################ BUILD VALIDATION SET ##########################################\n",
    "######## INITIALIZE VALIDATION SET ########################################################\n",
    "    validation_labels = np.zeros((num_val,classes))\n",
    "    validation_tensors = np.zeros((num_val,target_height,target_width,target_depth))\n",
    "########## TRAINING LOOP #####################################################\n",
    "    \n",
    "    for v in range(num_val):\n",
    "        \n",
    "        validation_image = mpimg.imread(mainfolder + validation_list_of_tuples[v][1])\n",
    "        croppad_image = tf.image.resize_image_with_crop_or_pad(validation_image, target_height, target_width)\n",
    "\n",
    "        Cropped =session.run(croppad_image, feed_dict={tensor_image: validation_image})\n",
    "        #plt.imshow(Cropped.astype('uint8'))\n",
    "        #plt.show()\n",
    "        #print(type(Cropped))\n",
    "        validation_labels[v] =  validation_list_of_tuples[v][0]\n",
    "        validation_tensors[v] = Cropped / 255# normalize pixels  "
   ]
  },
  {
   "cell_type": "code",
   "execution_count": 30,
   "metadata": {
    "collapsed": false
   },
   "outputs": [
    {
     "data": {
      "text/plain": [
       "450"
      ]
     },
     "execution_count": 30,
     "metadata": {},
     "output_type": "execute_result"
    }
   ],
   "source": [
    "len(Resized_image[0])"
   ]
  },
  {
   "cell_type": "code",
   "execution_count": 39,
   "metadata": {
    "collapsed": false
   },
   "outputs": [
    {
     "name": "stdout",
     "output_type": "stream",
     "text": [
      "No saved Model\n",
      "epoch 0 steps: 57\n",
      "finished step  0 learning rate 0.0001 Loss: 1719.55\n",
      "max W vales: 0.199883 0.199923 0.199987 0.20009 0.199948 0.196959\n",
      "max b vales: 0.1001 0.1001 0.1001 0.1001 0.1001\n",
      "min W vales: 3.29892e-07 2.5709e-05 7.51625e-06 7.1463e-08 4.40732e-06 0.000907025\n",
      "batch accuracy: 0.3\n",
      "Validation Accuracy: 0.363158\n",
      "NEW best_val_acc\n",
      "Model saved in file: models/QualMode620.ckpt\n",
      "finished step  1 learning rate 0.0001 Loss: 1018.36\n",
      "max W vales: 0.199813 0.200019 0.200087 0.200187 0.200048 0.196859\n",
      "max b vales: 0.1002 0.1002 0.1002 0.1002 0.1002\n",
      "min W vales: 1.48601e-05 1.78036e-06 1.13808e-05 7.1431e-08 4.40535e-06 0.000808284\n",
      "batch accuracy: 0.322222\n",
      "Validation Accuracy: 0.373684\n",
      "NEW best_val_acc\n",
      "Model saved in file: models/QualMode620.ckpt\n",
      "finished step  2 learning rate 0.0001 Loss: 621.246\n",
      "max W vales: 0.19973 0.200117 0.200184 0.200284 0.200122 0.196776\n",
      "max b vales: 0.1003 0.100298 0.1003 0.100298 0.100297\n",
      "min W vales: 2.07285e-05 1.01236e-05 2.11185e-06 7.13919e-08 2.29478e-05 0.000710351\n",
      "batch accuracy: 0.388889\n",
      "Validation Accuracy: 0.394737\n",
      "NEW best_val_acc\n",
      "Model saved in file: models/QualMode620.ckpt\n",
      "finished step  3 learning rate 0.0001 Loss: 700.467\n",
      "max W vales: 0.199728 0.200215 0.200274 0.200381 0.200164 0.196712\n",
      "max b vales: 0.1004 0.100397 0.1004 0.100397 0.100397\n",
      "min W vales: 6.31662e-08 4.02649e-06 1.96728e-06 7.13467e-08 6.90437e-06 0.000611373\n",
      "batch accuracy: 0.411111\n",
      "Validation Accuracy: 0.384211\n"
     ]
    },
    {
     "ename": "KeyboardInterrupt",
     "evalue": "",
     "output_type": "error",
     "traceback": [
      "\u001b[0;31m---------------------------------------------------------------------------\u001b[0m",
      "\u001b[0;31mKeyboardInterrupt\u001b[0m                         Traceback (most recent call last)",
      "\u001b[0;32m<ipython-input-39-a6b9d4f17a27>\u001b[0m in \u001b[0;36m<module>\u001b[0;34m()\u001b[0m\n\u001b[1;32m     44\u001b[0m \u001b[0;34m\u001b[0m\u001b[0m\n\u001b[1;32m     45\u001b[0m                 \u001b[0;31m############ jpg to numpy at list element j ##################\u001b[0m\u001b[0;34m\u001b[0m\u001b[0;34m\u001b[0m\u001b[0m\n\u001b[0;32m---> 46\u001b[0;31m                 \u001b[0mcycle_image\u001b[0m \u001b[0;34m=\u001b[0m \u001b[0mmpimg\u001b[0m\u001b[0;34m.\u001b[0m\u001b[0mimread\u001b[0m\u001b[0;34m(\u001b[0m\u001b[0mmainfolder\u001b[0m \u001b[0;34m+\u001b[0m \u001b[0mtraining_list_of_tuples\u001b[0m\u001b[0;34m[\u001b[0m\u001b[0mj\u001b[0m\u001b[0;34m]\u001b[0m\u001b[0;34m[\u001b[0m\u001b[0;36m1\u001b[0m\u001b[0;34m]\u001b[0m\u001b[0;34m)\u001b[0m\u001b[0;34m\u001b[0m\u001b[0m\n\u001b[0m\u001b[1;32m     47\u001b[0m                 \u001b[0;31m#plt.imshow(cycle_image)\u001b[0m\u001b[0;34m\u001b[0m\u001b[0;34m\u001b[0m\u001b[0m\n\u001b[1;32m     48\u001b[0m                 \u001b[0;31m#plt.show()\u001b[0m\u001b[0;34m\u001b[0m\u001b[0;34m\u001b[0m\u001b[0m\n",
      "\u001b[0;32m//anaconda/lib/python3.5/site-packages/matplotlib/image.py\u001b[0m in \u001b[0;36mimread\u001b[0;34m(fname, format)\u001b[0m\n\u001b[1;32m   1302\u001b[0m \u001b[0;34m\u001b[0m\u001b[0m\n\u001b[1;32m   1303\u001b[0m     \u001b[0;32mif\u001b[0m \u001b[0mext\u001b[0m \u001b[0;32mnot\u001b[0m \u001b[0;32min\u001b[0m \u001b[0mhandlers\u001b[0m\u001b[0;34m:\u001b[0m\u001b[0;34m\u001b[0m\u001b[0m\n\u001b[0;32m-> 1304\u001b[0;31m         \u001b[0mim\u001b[0m \u001b[0;34m=\u001b[0m \u001b[0mpilread\u001b[0m\u001b[0;34m(\u001b[0m\u001b[0mfname\u001b[0m\u001b[0;34m)\u001b[0m\u001b[0;34m\u001b[0m\u001b[0m\n\u001b[0m\u001b[1;32m   1305\u001b[0m         \u001b[0;32mif\u001b[0m \u001b[0mim\u001b[0m \u001b[0;32mis\u001b[0m \u001b[0;32mNone\u001b[0m\u001b[0;34m:\u001b[0m\u001b[0;34m\u001b[0m\u001b[0m\n\u001b[1;32m   1306\u001b[0m             raise ValueError('Only know how to handle extensions: %s; '\n",
      "\u001b[0;32m//anaconda/lib/python3.5/site-packages/matplotlib/image.py\u001b[0m in \u001b[0;36mpilread\u001b[0;34m(fname)\u001b[0m\n\u001b[1;32m   1280\u001b[0m         \u001b[0;32mexcept\u001b[0m \u001b[0mImportError\u001b[0m\u001b[0;34m:\u001b[0m\u001b[0;34m\u001b[0m\u001b[0m\n\u001b[1;32m   1281\u001b[0m             \u001b[0;32mreturn\u001b[0m \u001b[0;32mNone\u001b[0m\u001b[0;34m\u001b[0m\u001b[0m\n\u001b[0;32m-> 1282\u001b[0;31m         \u001b[0mimage\u001b[0m \u001b[0;34m=\u001b[0m \u001b[0mImage\u001b[0m\u001b[0;34m.\u001b[0m\u001b[0mopen\u001b[0m\u001b[0;34m(\u001b[0m\u001b[0mfname\u001b[0m\u001b[0;34m)\u001b[0m\u001b[0;34m\u001b[0m\u001b[0m\n\u001b[0m\u001b[1;32m   1283\u001b[0m         \u001b[0;32mreturn\u001b[0m \u001b[0mpil_to_array\u001b[0m\u001b[0;34m(\u001b[0m\u001b[0mimage\u001b[0m\u001b[0;34m)\u001b[0m\u001b[0;34m\u001b[0m\u001b[0m\n\u001b[1;32m   1284\u001b[0m \u001b[0;34m\u001b[0m\u001b[0m\n",
      "\u001b[0;32m//anaconda/lib/python3.5/site-packages/PIL/Image.py\u001b[0m in \u001b[0;36mopen\u001b[0;34m(fp, mode)\u001b[0m\n\u001b[1;32m   2254\u001b[0m         \u001b[0mfp\u001b[0m \u001b[0;34m=\u001b[0m \u001b[0mio\u001b[0m\u001b[0;34m.\u001b[0m\u001b[0mBytesIO\u001b[0m\u001b[0;34m(\u001b[0m\u001b[0mfp\u001b[0m\u001b[0;34m.\u001b[0m\u001b[0mread\u001b[0m\u001b[0;34m(\u001b[0m\u001b[0;34m)\u001b[0m\u001b[0;34m)\u001b[0m\u001b[0;34m\u001b[0m\u001b[0m\n\u001b[1;32m   2255\u001b[0m \u001b[0;34m\u001b[0m\u001b[0m\n\u001b[0;32m-> 2256\u001b[0;31m     \u001b[0mprefix\u001b[0m \u001b[0;34m=\u001b[0m \u001b[0mfp\u001b[0m\u001b[0;34m.\u001b[0m\u001b[0mread\u001b[0m\u001b[0;34m(\u001b[0m\u001b[0;36m16\u001b[0m\u001b[0;34m)\u001b[0m\u001b[0;34m\u001b[0m\u001b[0m\n\u001b[0m\u001b[1;32m   2257\u001b[0m \u001b[0;34m\u001b[0m\u001b[0m\n\u001b[1;32m   2258\u001b[0m     \u001b[0mpreinit\u001b[0m\u001b[0;34m(\u001b[0m\u001b[0;34m)\u001b[0m\u001b[0;34m\u001b[0m\u001b[0m\n",
      "\u001b[0;31mKeyboardInterrupt\u001b[0m: "
     ]
    }
   ],
   "source": [
    "start_time = timeit.default_timer()\n",
    "\n",
    "################## START SESSION ###############################################\n",
    "with tf.Session() as session: \n",
    "    \n",
    "    saver = tf.train.Saver()\n",
    "    saved_model = \"models/QualMode620.ckpt\"\n",
    "\n",
    "    if os.path.isfile(saved_model):\n",
    "        print('Found', saved_model)\n",
    "        saver.restore(session, saved_model)\n",
    "        print(saved_model, \"Model restored.\")\n",
    "    else:\n",
    "        print('No saved Model')\n",
    "        \n",
    "    best_val_acc = np.float32(1/classes)\n",
    "\n",
    "############## INITIALIZE VARIABLES WITHIN THIS SESSION #############################   \n",
    "    session.run(model_and_variables)\n",
    "########## TRAINING LOOP #####################################################\n",
    "\n",
    "########## NUMBER OF EPOCHS ##################################################\n",
    "    for epoch in range(epochs):\n",
    "        print('epoch', epoch, 'steps:', num_steps)\n",
    "    ########## SHUFFLE TRAINING DATA BETWEEN EPOCHS #############################    \n",
    "        random.shuffle(training_list_of_tuples)\n",
    "    ########## ONE EPOCH #####################################################\n",
    "        for step in range(num_steps):\n",
    "            offset = (step * batch_size) % (num_train)\n",
    "            start = offset\n",
    "            end = offset + batch_size\n",
    "            if num_train - end < batch_size:\n",
    "                end += (num_train % batch_size) # last end is extended to end of training set\n",
    "\n",
    "    ######## INITIALIZE TRAINING BATCH ########################################################\n",
    "\n",
    "            training_labels = np.zeros((batch_size*6,classes))\n",
    "            training_tensors = np.zeros((batch_size*6,target_height,target_width,target_depth))\n",
    "\n",
    "    ####### USE 'start' and 'end' to build one BATCH #####################################\n",
    "    ####### HERE ################################################################\n",
    "            i=0\n",
    "            for j in range(start,end):\n",
    "                \n",
    "                ############ jpg to numpy at list element j ##################\n",
    "                cycle_image = mpimg.imread(mainfolder + training_list_of_tuples[j][1])\n",
    "                #plt.imshow(cycle_image)\n",
    "                #plt.show()\n",
    "                # j is the id for the image in this randomized dataset \n",
    "                ############ Tensor image fitting and augmentations #####################\n",
    "                \n",
    "                croppad_image = tf.image.resize_image_with_crop_or_pad(cycle_image, target_height, target_width)\n",
    "                lrflip_croppad = tf.image.flip_left_right(croppad_image)\n",
    "                udflip_croppad = tf.image.flip_up_down(croppad_image)\n",
    "                \n",
    "                graph_output=[resized_image,lrflip_resized,udflip_resized,croppad_image,lrflip_croppad,udflip_croppad]\n",
    "                #session_output=[Resized_image,Lrflip_resized,Udflip_resized,Croppad_image,Lrflip_croppad,Udflip_croppad]\n",
    "                \n",
    "                session_output=session.run(graph_output,                                                        \n",
    "                feed_dict={tensor_image: cycle_image})\n",
    "                \n",
    "                extended_batch_size = len(graph_output)\n",
    "                \n",
    "                for output in session_output:\n",
    "\n",
    "                    training_labels[i] =  training_list_of_tuples[j][0]\n",
    "                    training_tensors[i] = output/255 # normalize pixels \n",
    "\n",
    "                    i+=1\n",
    "########### FEED TRAINING BATCH TO NETWORK ##########################################\n",
    "########### HERE ####################################################################\n",
    "\n",
    "            train_batch,Loss = session.run([train_step,cross_entropy],\n",
    "                               feed_dict={x: training_tensors, y_: training_labels, keep_prob: 1.0})\n",
    "    \n",
    "            print('finished step ', step, 'learning rate' ,learning_rate.eval(), 'Loss:',Loss)\n",
    "            print(\"max W vales: %g %g %g %g %g %g\"%(tf.reduce_max(tf.abs(W_conv1)).eval(),\n",
    "                                              tf.reduce_max(tf.abs(W_conv2)).eval(),tf.reduce_max(tf.abs(W_conv3)).eval(),\n",
    "                                              tf.reduce_max(tf.abs(W_fc1)).eval(),tf.reduce_max(tf.abs(W_fc2)).eval(),\n",
    "                                              tf.reduce_max(tf.abs(W_fc3)).eval()))\n",
    "\n",
    "            print(\"max b vales: %g %g %g %g %g\"%(tf.reduce_max(tf.abs(b_conv1)).eval(),tf.reduce_max(tf.abs(b_conv2)).eval(),\n",
    "                                              tf.reduce_max(tf.abs(b_fc1)).eval(),tf.reduce_max(tf.abs(b_fc2)).eval(),\n",
    "                                              tf.reduce_max(tf.abs(b_fc3)).eval())) \n",
    "            \n",
    "            print(\"min W vales: %g %g %g %g %g %g\"%(tf.reduce_min(tf.abs(W_conv1)).eval(),\n",
    "                                              tf.reduce_min(tf.abs(W_conv2)).eval(),tf.reduce_min(tf.abs(W_conv3)).eval(),\n",
    "                                              tf.reduce_min(tf.abs(W_fc1)).eval(),tf.reduce_min(tf.abs(W_fc2)).eval(),\n",
    "                                              tf.reduce_min(tf.abs(W_fc3)).eval()))\n",
    "\n",
    "            batch_acc = session.run(accuracy, feed_dict={x: training_tensors, y_: training_labels,  keep_prob: 1.0})\n",
    "            print(\"batch accuracy: %g\"% batch_acc)\n",
    "            valid_acc = session.run(accuracy, feed_dict={x: validation_tensors, y_: validation_labels,  keep_prob: 1.0})\n",
    "            print(\"Validation Accuracy: %g\"% valid_acc)\n",
    "            if valid_acc > best_val_acc:\n",
    "                best_val_acc = valid_acc\n",
    "                print('NEW best_val_acc')\n",
    "                save_path = saver.save(session, saved_model)\n",
    "                print(\"Model saved in file: %s\" % save_path)\n",
    "#######################################################################################\n",
    "\n",
    "end_time = timeit.default_timer()\n",
    "print('DONE, ran for %.2fm' % ((end_time - start_time) / 60.))"
   ]
  },
  {
   "cell_type": "code",
   "execution_count": 20,
   "metadata": {
    "collapsed": false
   },
   "outputs": [
    {
     "data": {
      "image/png": "[encoded data removed]",
      "text/plain": [
       "<matplotlib.figure.Figure at 0x10de6dbe0>"
      ]
     },
     "metadata": {},
     "output_type": "display_data"
    },
    {
     "name": "stdout",
     "output_type": "stream",
     "text": [
      "[ 0.  0.  1.]\n"
     ]
    }
   ],
   "source": [
    "c = training_list_of_tuples[2]\n",
    "cycle_image = mpimg.imread(mainfolder + c[1])           \n",
    "plt.imshow(cycle_image)\n",
    "plt.show()\n",
    "print(c[0])"
   ]
  },
  {
   "cell_type": "code",
   "execution_count": 15,
   "metadata": {
    "collapsed": false
   },
   "outputs": [
    {
     "name": "stdout",
     "output_type": "stream",
     "text": [
      "[ 0.  0.  0.]\n"
     ]
    },
    {
     "data": {
      "image/png": "[encoded data removed]",
      "text/plain": [
       "<matplotlib.figure.Figure at 0x10f6c7fd0>"
      ]
     },
     "metadata": {},
     "output_type": "display_data"
    }
   ],
   "source": [
    "print(validation_labels[4])\n",
    "plt.imshow(validation_tensors[4])\n",
    "plt.show()"
   ]
  },
  {
   "cell_type": "code",
   "execution_count": 11,
   "metadata": {
    "collapsed": false
   },
   "outputs": [
    {
     "name": "stdout",
     "output_type": "stream",
     "text": [
      "No saved Model\n",
      "[array([[  2.48353019e-01,   1.79301889e-04,   7.51467645e-01]], dtype=float32)]\n"
     ]
    }
   ],
   "source": [
    "################## START SESSION ###############################################\n",
    "with tf.Session() as session: \n",
    "    \n",
    "    saver = tf.train.Saver()\n",
    "    saved_model = \"tf.argmax(Y_soft,1)\"\n",
    "\n",
    "    if os.path.isfile(saved_model):\n",
    "        print('Found', saved_model)\n",
    "        saver.restore(session, saved_model)\n",
    "        print(saved_model, \"Model restored.\")\n",
    "    else:\n",
    "        print('No saved Model')\n",
    "        \n",
    "    best_val_acc = np.float32(1/classes)\n",
    "\n",
    "############## INITIALIZE VARIABLES WITHIN THIS SESSION #############################   \n",
    "    session.run(model_and_variables)\n",
    "########## TRAINING LOOP #####################################################\n",
    "\n",
    "    Y_soft=session.run([y_soft,],                                                        \n",
    "    feed_dict={x: np.expand_dims(validation_tensors[0], axis=0) ,  keep_prob: 1.0})\n",
    "    \n",
    "print(Y_soft)\n"
   ]
  },
  {
   "cell_type": "code",
   "execution_count": null,
   "metadata": {
    "collapsed": true
   },
   "outputs": [],
   "source": []
  }
 ],
 "metadata": {
  "kernelspec": {
   "display_name": "Python 3",
   "language": "python",
   "name": "python3"
  },
  "language_info": {
   "codemirror_mode": {
    "name": "ipython",
    "version": 3
   },
   "file_extension": ".py",
   "mimetype": "text/x-python",
   "name": "python",
   "nbconvert_exporter": "python",
   "pygments_lexer": "ipython3",
   "version": "3.5.1"
  }
 },
 "nbformat": 4,
 "nbformat_minor": 0
}
